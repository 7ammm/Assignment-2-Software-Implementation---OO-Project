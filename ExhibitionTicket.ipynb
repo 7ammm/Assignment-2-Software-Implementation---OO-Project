{
  "nbformat": 4,
  "nbformat_minor": 0,
  "metadata": {
    "colab": {
      "provenance": []
    },
    "kernelspec": {
      "name": "python3",
      "display_name": "Python 3"
    },
    "language_info": {
      "name": "python"
    }
  },
  "cells": [
    {
      "cell_type": "code",
      "execution_count": 10,
      "metadata": {
        "id": "IT3ALt_TgSkb"
      },
      "outputs": [],
      "source": [
        "from datetime import date\n",
        "from admission_ticket import AdmissionTicket  # Renamed from GeneralTicket\n",
        "from showcase import Showcase  # Renamed from Exhibition\n",
        "\n",
        "class DisplayTicket(AdmissionTicket):  # Renamed from ExhibitionTicket\n",
        "    def __init__(self, ticket_number: int, guest: 'MuseumGuest', cost: float, visit_date: date, display: Showcase):\n",
        "        # Construct a DisplayTicket object with a number, associated guest, cost, visit date, and linked display\n",
        "        super().__init__(ticket_number, guest, cost, visit_date)\n",
        "        self._display = display\n",
        "\n",
        "    def fetch_display(self) -> Showcase:\n",
        "        # Retrieve the showcase associated with the ticket\n",
        "        return self._display\n",
        "\n",
        "    def update_display(self, display: Showcase) -> None:\n",
        "        # Update the showcase associated with the ticket\n",
        "        self._display = display\n",
        "\n"
      ]
    }
  ]
}