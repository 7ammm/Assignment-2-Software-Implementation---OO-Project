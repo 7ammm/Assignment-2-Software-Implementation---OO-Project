{
  "nbformat": 4,
  "nbformat_minor": 0,
  "metadata": {
    "colab": {
      "provenance": []
    },
    "kernelspec": {
      "name": "python3",
      "display_name": "Python 3"
    },
    "language_info": {
      "name": "python"
    }
  },
  "cells": [
    {
      "cell_type": "code",
      "execution_count": 3,
      "metadata": {
        "id": "IT3ALt_TgSkb"
      },
      "outputs": [],
      "source": [
        "class ExhibitSpace:\n",
        "    def __init__(self, space_id: int, designation: str):\n",
        "        # Construct an ExhibitSpace object with a unique identifier and a designation\n",
        "        self._space_id = space_id\n",
        "        self._designation = designation\n",
        "\n",
        "    def get_space_id(self) -> int:\n",
        "        # Retrieve the identifier of the exhibit space\n",
        "        return self._space_id\n",
        "\n",
        "    def update_space_id(self, space_id: int) -> None:\n",
        "        # Update the identifier of the exhibit space\n",
        "        self._space_id = space_id\n",
        "\n",
        "    def get_designation(self) -> str:\n",
        "        # Obtain the designation (name) of the exhibit space\n",
        "        return self._designation\n",
        "\n",
        "    def update_designation(self, designation: str) -> None:\n",
        "        # Modify the designation (name) of the exhibit space\n",
        "        self._designation = designation"
      ]
    }
  ]
}