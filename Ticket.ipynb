{
  "nbformat": 4,
  "nbformat_minor": 0,
  "metadata": {
    "colab": {
      "provenance": []
    },
    "kernelspec": {
      "name": "python3",
      "display_name": "Python 3"
    },
    "language_info": {
      "name": "python"
    }
  },
  "cells": [
    {
      "cell_type": "code",
      "execution_count": 7,
      "metadata": {
        "id": "IT3ALt_TgSkb"
      },
      "outputs": [],
      "source": [
        "from ticket import AdmissionTicket\n",
        "\n",
        "class MuseumGuest:\n",
        "    def __init__(self, guest_id: int, full_name: str, years_old: int, identification: str = \"\"):\n",
        "        # Construct a MuseumGuest object with an ID, full name, age, and optional identification card number\n",
        "        self._guest_id = guest_id\n",
        "        self._full_name = full_name\n",
        "        self._years_old = years_old\n",
        "        self._identification = identification\n",
        "        self._admission_ticket = None\n",
        "\n",
        "    def retrieve_guest_id(self) -> int:\n",
        "        # Retrieve the ID of the museum guest\n",
        "        return self._guest_id\n",
        "\n",
        "    def update_guest_id(self, guest_id: int) -> None:\n",
        "        # Update the ID of the museum guest\n",
        "        self._guest_id = guest_id\n",
        "\n",
        "    def retrieve_full_name(self) -> str:\n",
        "        # Access the full name of the museum guest\n",
        "        return self._full_name\n",
        "\n",
        "    def update_full_name(self, full_name: str) -> None:\n",
        "        # Update the full name of the museum guest\n",
        "        self._full_name = full_name\n",
        "\n",
        "    def retrieve_age(self) -> int:\n",
        "        # Get the age of the museum guest\n",
        "        return self._years_old\n",
        "\n",
        "    def update_age(self, years_old: int) -> None:\n",
        "        # Set a new age for the museum guest\n",
        "        self._years_old = years_old\n",
        "\n",
        "    def retrieve_identification(self) -> str:\n",
        "        # Obtain the identification number of the museum guest\n",
        "        return self._identification\n",
        "\n",
        "    def update_identification(self, identification: str) -> None:\n",
        "        # Update the identification number of the museum guest\n",
        "        self._identification = identification\n",
        "\n",
        "    def retrieve_ticket(self) -> AdmissionTicket:\n",
        "        # Get the admission ticket of the museum guest\n",
        "        return self._admission_ticket\n",
        "\n",
        "    def assign_ticket(self, admission_ticket: AdmissionTicket) -> None:\n",
        "        # Assign an admission ticket to the museum guest\n",
        "        self._admission_ticket = admission_ticket"
      ]
    }
  ]
}