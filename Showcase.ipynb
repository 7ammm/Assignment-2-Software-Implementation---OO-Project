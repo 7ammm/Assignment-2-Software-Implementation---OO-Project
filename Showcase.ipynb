{
  "nbformat": 4,
  "nbformat_minor": 0,
  "metadata": {
    "colab": {
      "provenance": []
    },
    "kernelspec": {
      "name": "python3",
      "display_name": "Python 3"
    },
    "language_info": {
      "name": "python"
    }
  },
  "cells": [
    {
      "cell_type": "code",
      "execution_count": 4,
      "metadata": {
        "id": "IT3ALt_TgSkb"
      },
      "outputs": [],
      "source": [
        "class Showcase:\n",
        "    def __init__(self, showcase_id: int, headline: str, opening_date: date, closing_date: date, exhibit_space: 'ExhibitSpace'):\n",
        "        # Construct a Showcase object with an identifier, headline, opening and closing dates, and exhibit space\n",
        "        self._showcase_id = showcase_id\n",
        "        self._headline = headline\n",
        "        self._opening_date = opening_date\n",
        "        self._closing_date = closing_date\n",
        "        self._exhibit_space = exhibit_space\n",
        "\n",
        "    def fetch_showcase_id(self) -> int:\n",
        "        # Retrieve the identifier of the showcase\n",
        "        return self._showcase_id\n",
        "\n",
        "    def fetch_headline(self) -> str:\n",
        "        # Access the headline of the showcase\n",
        "        return self._headline\n",
        "\n",
        "    def fetch_opening_date(self) -> date:\n",
        "        # Obtain the opening date of the showcase\n",
        "        return self._opening_date\n",
        "\n",
        "    def fetch_closing_date(self) -> date:\n",
        "        # Get the closing date of the showcase\n",
        "        return self._closing_date\n",
        "\n",
        "    def fetch_exhibit_space(self) -> 'ExhibitSpace':\n",
        "        # Retrieve the exhibit space of the showcase\n",
        "        return self._exhibit_space"
      ]
    }
  ]
}