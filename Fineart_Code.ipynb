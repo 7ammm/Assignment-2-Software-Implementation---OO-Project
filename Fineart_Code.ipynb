{
  "nbformat": 4,
  "nbformat_minor": 0,
  "metadata": {
    "colab": {
      "provenance": []
    },
    "kernelspec": {
      "name": "python3",
      "display_name": "Python 3"
    },
    "language_info": {
      "name": "python"
    }
  },
  "cells": [
    {
      "cell_type": "code",
      "execution_count": 2,
      "metadata": {
        "id": "IT3ALt_TgSkb"
      },
      "outputs": [],
      "source": [
        "from datetime import date\n",
        "\n",
        "class FineArt:\n",
        "    def __init__(self, art_id: int, name: str, creator: str, date_of_creation: date, significance: str, exhibit_location: 'ExhibitSpace'):\n",
        "        # Construct a FineArt object with an ID, name, creator, date of creation, significance, and exhibit location\n",
        "        self._id = art_id\n",
        "        self._name = name\n",
        "        self._creator = creator\n",
        "        self._date_of_creation = date_of_creation\n",
        "        self._significance = significance\n",
        "        self._exhibit_location = exhibit_location\n",
        "\n",
        "    def get_id(self) -> int:\n",
        "        # Retrieve the ID of the art piece\n",
        "        return self._id\n",
        "\n",
        "    def update_id(self, art_id: int) -> None:\n",
        "        # Update the ID of the art piece\n",
        "        self._id = art_id\n",
        "\n",
        "    def get_name(self) -> str:\n",
        "        # Access the name of the art piece\n",
        "        return self._name\n",
        "\n",
        "    def update_name(self, name: str) -> None:\n",
        "        # Modify the name of the art piece\n",
        "        self._name = name\n",
        "\n",
        "    def get_creator(self) -> str:\n",
        "        # Obtain the creator's name of the art piece\n",
        "        return self._creator\n",
        "\n",
        "    def update_creator(self, creator: str) -> None:\n",
        "        # Update the creator's name of the art piece\n",
        "        self._creator = creator\n",
        "\n",
        "    def get_date_of_creation(self) -> date:\n",
        "        # Fetch the creation date of the art piece\n",
        "        return self._date_of_creation\n",
        "\n",
        "    def update_date_of_creation(self, date_of_creation: date) -> None:\n",
        "        # Set a new creation date for the art piece\n",
        "        self._date_of_creation = date_of_creation\n",
        "\n",
        "    def get_significance(self) -> str:\n",
        "        # Access the historical significance of the art piece\n",
        "        return self._significance\n",
        "\n",
        "    def update_significance(self, significance: str) -> None:\n",
        "        # Change the significance of the art piece\n",
        "        self._significance = significance\n",
        "\n",
        "    def get_exhibit_location(self) -> 'ExhibitSpace':\n",
        "        # Retrieve the location where the art is exhibited\n",
        "        return self._exhibit_location\n",
        "\n",
        "    def update_exhibit_location(self, exhibit_location: 'ExhibitSpace') -> None:\n",
        "        # Set a new location for the art piece\n",
        "        self._exhibit_location = exhibit_location\n",
        "\n",
        "# The 'ExhibitSpace' class should also be defined accordingly."
      ]
    }
  ]
}