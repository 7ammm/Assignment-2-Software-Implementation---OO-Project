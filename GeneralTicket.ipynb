{
  "nbformat": 4,
  "nbformat_minor": 0,
  "metadata": {
    "colab": {
      "provenance": []
    },
    "kernelspec": {
      "name": "python3",
      "display_name": "Python 3"
    },
    "language_info": {
      "name": "python"
    }
  },
  "cells": [
    {
      "cell_type": "code",
      "execution_count": 8,
      "metadata": {
        "id": "IT3ALt_TgSkb"
      },
      "outputs": [],
      "source": [
        "from datetime import date\n",
        "\n",
        "class AdmissionTicket:\n",
        "    def __init__(self, ticket_id: int, guest: 'MuseumGuest', cost: float, visit_date: date):\n",
        "        # Construct an AdmissionTicket with an ID, associated guest, cost, and date of visit\n",
        "        self._ticket_id = ticket_id\n",
        "        self._guest = guest\n",
        "        self._cost = cost\n",
        "        self._visit_date = visit_date\n",
        "\n",
        "    def fetch_ticket_id(self) -> int:\n",
        "        # Retrieve the ticket's ID\n",
        "        return self._ticket_id\n",
        "\n",
        "    def update_ticket_id(self, ticket_id: int) -> None:\n",
        "        # Update the ticket's ID\n",
        "        self._ticket_id = ticket_id\n",
        "\n",
        "    def fetch_guest(self) -> 'MuseumGuest':\n",
        "        # Get the guest associated with the ticket\n",
        "        return self._guest\n",
        "\n",
        "    def update_guest(self, guest: 'MuseumGuest') -> None:\n",
        "        # Associate a new guest with the ticket\n",
        "        self._guest = guest\n",
        "\n",
        "    def fetch_cost(self) -> float:\n",
        "        # Access the cost of the ticket\n",
        "        return self._cost\n",
        "\n",
        "    def update_cost(self, cost: float) -> None:\n",
        "        # Adjust the ticket's cost\n",
        "        self._cost = cost\n",
        "\n",
        "    def fetch_visit_date(self) -> date:\n",
        "        # Get the visit date for the ticket\n",
        "        return self._visit_date\n",
        "\n",
        "    def update_visit_date(self, visit_date: date) -> None:\n",
        "        # Set a new visit date for the ticket\n",
        "        self._visit_date = visit_date\n",
        "\n",
        "    def compute_final_price(self) -> float:\n",
        "        # Method to be overridden in subclasses to calculate the final ticket price\n",
        "        raise NotImplementedError(\"Subclass must implement the 'compute_final_price' method.\")\n"
      ]
    }
  ]
}