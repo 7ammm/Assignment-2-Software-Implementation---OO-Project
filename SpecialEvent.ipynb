{
  "nbformat": 4,
  "nbformat_minor": 0,
  "metadata": {
    "colab": {
      "provenance": []
    },
    "kernelspec": {
      "name": "python3",
      "display_name": "Python 3"
    },
    "language_info": {
      "name": "python"
    }
  },
  "cells": [
    {
      "cell_type": "code",
      "execution_count": 10,
      "metadata": {
        "id": "IT3ALt_TgSkb"
      },
      "outputs": [],
      "source": [
        "from datetime import date\n",
        "from admission_ticket import AdmissionTicket  # Renamed from Ticket\n",
        "from event_highlight import EventHighlight  # Renamed from SpecialEvent\n",
        "\n",
        "class FeatureEventTicket(AdmissionTicket):  # Renamed from SpecialEventTicket\n",
        "    def __init__(self, ticket_id: int, attendee: 'MuseumGuest', admission_fee: float, event_date: date, highlight: EventHighlight):\n",
        "        # Construct a FeatureEventTicket object with an ID, attendee, admission fee, event date, and the event highlight\n",
        "        super().__init__(ticket_id, attendee, admission_fee, event_date)\n",
        "        self._highlight = highlight\n",
        "\n",
        "    def compute_event_price(self) -> float:\n",
        "        # Compute the price for attending the event\n",
        "        return self._admission_fee\n",
        "\n",
        "Staff code:\n",
        "class MuseumStaff:\n",
        "    def __init__(self, employee_id: int, employee_name: str, position: str):\n",
        "        # Construct a MuseumStaff object with an employee ID, name, and position\n",
        "        self._employee_id = employee_id\n",
        "        self._employee_name = employee_name\n",
        "        self._position = position\n",
        "\n",
        "    def fetch_employee_id(self) -> int:\n",
        "        # Retrieve the employee ID\n",
        "        return self._employee_id\n",
        "\n",
        "    def update_employee_id(self, employee_id: int) -> None:\n",
        "        # Update the employee ID\n",
        "        self._employee_id = employee_id\n",
        "\n",
        "    def fetch_employee_name(self) -> str:\n",
        "        # Get the name of the museum staff member\n",
        "        return self._employee_name\n",
        "\n",
        "    def update_employee_name(self, employee_name: str) -> None:\n",
        "        # Set a new name for the museum staff member\n",
        "        self._employee_name = employee_name\n",
        "\n",
        "    def fetch_position(self) -> str:\n",
        "        # Obtain the position or role of the museum staff member\n",
        "        return self._position\n",
        "\n",
        "    def update_position(self, position: str) -> None:\n",
        "        # Assign a new position to the museum staff member\n",
        "        self._position = position"
      ]
    }
  ]
}