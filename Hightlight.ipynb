{
  "nbformat": 4,
  "nbformat_minor": 0,
  "metadata": {
    "colab": {
      "provenance": []
    },
    "kernelspec": {
      "name": "python3",
      "display_name": "Python 3"
    },
    "language_info": {
      "name": "python"
    }
  },
  "cells": [
    {
      "cell_type": "code",
      "execution_count": 5,
      "metadata": {
        "id": "IT3ALt_TgSkb"
      },
      "outputs": [],
      "source": [
        "class EventHighlight:\n",
        "    def __init__(self, event_id: int, event_title: str, event_date: date, venue: 'ExhibitSpace'):\n",
        "        # Construct an EventHighlight object with an ID, title, date, and venue\n",
        "        self._event_id = event_id\n",
        "        self._event_title = event_title\n",
        "        self._event_date = event_date\n",
        "        self._venue = venue\n",
        "\n",
        "    def retrieve_id(self) -> int:\n",
        "        # Retrieve the ID of the event highlight\n",
        "        return self._event_id\n",
        "\n",
        "    def assign_id(self, event_id: int) -> None:\n",
        "        # Assign a new ID to the event highlight\n",
        "        self._event_id = event_id\n",
        "\n",
        "    def retrieve_title(self) -> str:\n",
        "        # Access the title of the event highlight\n",
        "        return self._event_title\n",
        "\n",
        "    def assign_title(self, event_title: str) -> None:\n",
        "        # Assign a new title to the event highlight\n",
        "        self._event_title = event_title\n",
        "\n",
        "    def retrieve_date(self) -> date:\n",
        "        # Obtain the date of the event highlight\n",
        "        return self._event_date\n",
        "\n",
        "    def assign_date(self, event_date: date) -> None:\n",
        "        # Set a new date for the event highlight\n",
        "        self._event_date = event_date\n",
        "\n",
        "    def retrieve_venue(self) -> 'ExhibitSpace':\n",
        "        # Get the venue of the event highlight\n",
        "        return self._venue\n",
        "\n",
        "    def assign_venue(self, venue: 'ExhibitSpace') -> None:\n",
        "        # Set a new venue for the event highlight\n",
        "        self._venue = venue"
      ]
    }
  ]
}