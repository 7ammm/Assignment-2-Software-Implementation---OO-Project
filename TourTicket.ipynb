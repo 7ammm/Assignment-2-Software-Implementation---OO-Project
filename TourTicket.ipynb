{
  "nbformat": 4,
  "nbformat_minor": 0,
  "metadata": {
    "colab": {
      "provenance": []
    },
    "kernelspec": {
      "name": "python3",
      "display_name": "Python 3"
    },
    "language_info": {
      "name": "python"
    }
  },
  "cells": [
    {
      "cell_type": "code",
      "execution_count": 9,
      "metadata": {
        "id": "IT3ALt_TgSkb"
      },
      "outputs": [],
      "source": [
        "from datetime import date\n",
        "from admission_ticket import AdmissionTicket  # Renamed from GeneralTicket\n",
        "from museum_staff import MuseumStaff  # Renamed from Staff\n",
        "\n",
        "class GroupTourTicket(AdmissionTicket):  # Renamed from TourTicket\n",
        "    def __init__(self, ticket_number: int, guest: 'MuseumGuest', cost: float, visit_date: date, tour_guide: MuseumStaff, attendees: int):\n",
        "        # Construct a GroupTourTicket with a number, associated guest, cost, date of visit, a tour guide, and the number of attendees\n",
        "        super().__init__(ticket_number, guest, cost, visit_date)\n",
        "        self._tour_guide = tour_guide\n",
        "        self._attendees = attendees\n",
        "\n",
        "    def fetch_tour_guide(self) -> MuseumStaff:\n",
        "        # Get the tour guide associated with the group tour\n",
        "        return self._tour_guide\n",
        "\n",
        "    def update_tour_guide(self, tour_guide: MuseumStaff) -> None:\n",
        "        # Assign a new tour guide to the group tour\n",
        "        self._tour_guide = tour_guide\n",
        "\n",
        "    def fetch_attendees(self) -> int:\n",
        "        # Retrieve the number of attendees for the group tour\n",
        "        return self._attendees\n",
        "\n",
        "    def update_attendees(self, attendees: int) -> None:\n",
        "        # Update the number of attendees for the group tour\n",
        "        self._attendees = attendees\n"
      ]
    }
  ]
}